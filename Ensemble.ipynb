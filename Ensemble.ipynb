{
 "cells": [
  {
   "cell_type": "markdown",
   "metadata": {},
   "source": [
    "# <center> <span style=\"color:lightblue\">**Ensemble**</span>\n"
   ]
  },
  {
   "cell_type": "markdown",
   "metadata": {},
   "source": [
    "<center><img src=\"Ensemble.excalidraw.png\">"
   ]
  },
  {
   "cell_type": "markdown",
   "metadata": {},
   "source": [
    "## Voting Technique of Ensemble\n",
    "\n",
    "- Base models are different algorithms\n",
    "- Base models are trained with different parameters\n",
    "  - e.g like : Linear Regression, SVM , Decision Tree\n",
    "- all this models are trained with the same data \n",
    "- for Classification we use majority rule or highest common outcome from all the models\n",
    "- in case of regression model we use Mean of all the model output"
   ]
  },
  {
   "cell_type": "markdown",
   "metadata": {},
   "source": [
    "## Bagging technique of Ensemble\n",
    "\n",
    "- Bootstrap Aggregation (Bagging)\n",
    "- Base Model is Random Forest or SVM (Suport Vector machine)\n",
    "- this model is trained on different sets of data at random from same dataset\n",
    "- for Classification we use majority rule or highest common outcome from all the models\n",
    "- in case of regression model we use Mean of all the model output"
   ]
  },
  {
   "cell_type": "markdown",
   "metadata": {},
   "source": [
    "## Stacking technique of Ensemble\n",
    "\n",
    "- this technique is similor to Voting technique with different models trained from the dataset only defference is another model like KNN is used to predict the result\n",
    "- this KNN model is trained on the output of the previous models like Linear Regression,SVM,Decision Tree and a result is predicted from this \n",
    "- each model like Linear Regression,SVM,Decision Tree is given a weightage and the result is predicted using the weightage of each model\n",
    "- since this models are stacked it is called stacking technique"
   ]
  },
  {
   "cell_type": "markdown",
   "metadata": {},
   "source": [
    "## Boosting Ensemble Technique\n",
    "\n",
    "- this technique uses only one model similor to Bagging\n",
    "- this technique has three different models \n",
    "  - Ada Boosting\n",
    "  - Gradient Boosting\n",
    "  - XG Boosting (Extrene Gradient Boosting)\n",
    "- "
   ]
  },
  {
   "cell_type": "code",
   "execution_count": null,
   "metadata": {},
   "outputs": [],
   "source": []
  }
 ],
 "metadata": {
  "language_info": {
   "name": "python"
  }
 },
 "nbformat": 4,
 "nbformat_minor": 2
}
