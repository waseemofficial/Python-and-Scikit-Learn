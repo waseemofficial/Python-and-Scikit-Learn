{
 "cells": [
  {
   "cell_type": "markdown",
   "metadata": {},
   "source": [
    "# <center> <span style=\"color:lightgreen\">**Probability Distribution Functions**</span>"
   ]
  },
  {
   "cell_type": "markdown",
   "metadata": {},
   "source": [
    "### Probability Mass Function (PMF) --> <span style=\"color:red\">**Continuous Random Variable**</span>\n",
    "$$PDF=\\frac{1}{\\sigma\\sqrt{2\\pi}} e^{-\\frac{1}{2}}(\\frac{x-\\mu}{\\sigma})^2 $$\n",
    "### Probability Distrubution Function (PDF) --> <span style=\"color:red\"> **Discrete Random Variable**</span>\n",
    "### Cummulative Distribution Function (CDF) --> <span style=\"color:red\">**a**</span>\n",
    "$$cdf=\\frac{1}{2}[1+erf(\\frac{x-\\mu}{\\sigma\\sqrt{2}})]$$"
   ]
  },
  {
   "cell_type": "markdown",
   "metadata": {},
   "source": [
    "https://www.youtube.com/watch?v=6Z8SdN52GuU"
   ]
  },
  {
   "cell_type": "markdown",
   "metadata": {},
   "source": [
    "<img src=\"Descrete_statistics.excalidraw.png\">"
   ]
  },
  {
   "cell_type": "markdown",
   "metadata": {},
   "source": [
    "- PDF : Bell curve e.g weight,age,\n",
    "- PMF : Descret type curve e.g stages, catogry \n",
    "- CDF : S type curve e.g  "
   ]
  },
  {
   "cell_type": "code",
   "execution_count": null,
   "metadata": {},
   "outputs": [],
   "source": []
  }
 ],
 "metadata": {
  "language_info": {
   "name": "python"
  }
 },
 "nbformat": 4,
 "nbformat_minor": 2
}
